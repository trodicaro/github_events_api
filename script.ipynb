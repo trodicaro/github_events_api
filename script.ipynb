{
 "cells": [
  {
   "cell_type": "code",
   "execution_count": 105,
   "id": "6b486483-5781-49a5-851b-8460d35530cc",
   "metadata": {},
   "outputs": [
    {
     "name": "stdout",
     "output_type": "stream",
     "text": [
      "['PullRequestEvent', 'PushEvent', 'CreateEvent']\n",
      "torvalds/linux\n",
      "torvalds/GuitarPedal\n"
     ]
    }
   ],
   "source": [
    "from collections import Counter\n",
    "\n",
    "import re\n",
    "import requests\n",
    "from tenacity import retry, stop_after_attempt, wait_exponential\n",
    "\n",
    "@retry(stop=stop_after_attempt(3), wait=wait_exponential(min=1)) # it waits 2^x * 1 second between each retry; min=1 waits 1s to start retries\n",
    "def fetch_records(url, headers, params):\n",
    "    response = requests.get(url, headers=headers, params=params)\n",
    "    response.raise_for_status()\n",
    "    return response\n",
    "\n",
    "# https://docs.github.com/en/rest/activity/events?apiVersion=2022-11-28#list-public-events-for-a-user\n",
    "username = 'torvalds' # or ge0ffrey, octocat, torvalds\n",
    "url = f'https://api.github.com/users/{username}/events/public'\n",
    "\n",
    "headers = {\n",
    "    'accept': 'application/vnd.github+json',\n",
    "    'X-GitHub-Api-Version': '2022-11-28'\n",
    "}\n",
    "params = {'per_page': 100}\n",
    "\n",
    "all_events = []\n",
    "\n",
    "while url:\n",
    "    response = fetch_records(url, headers=headers, params=params)\n",
    "    all_events.extend(response.json())\n",
    "    # a more naive approach using a counter for params['page'] doesn't play nicely for non-existent pages\n",
    "    link_header = response.headers.get('Link', '')\n",
    "    match = re.search(r'<(\\S+)>; rel=\"next\"', link_header, re.IGNORECASE)\n",
    "    # other regexes considered but seem overkill: r'(?<=<)(\\S+)(?=>; rel=\"next\")', r'(?<=<).*?(?=>)' \n",
    "    url = match and match.group(1)\n",
    "    \n",
    "activity_types = [event['type'] for event in all_events]\n",
    "activity_counts = Counter(activity_types)\n",
    "top_3_activities = [activity for activity, _ in activity_counts.most_common(3)]\n",
    "print(top_3_activities)\n",
    "owned_repos = set()\n",
    "for event in all_events:\n",
    "    repo_name = event['repo']['name']\n",
    "    repo_owner, _, _ = repo_name.partition('/')\n",
    "    activity_type = event['type']\n",
    "    created_at = event['created_at']\n",
    "    if repo_owner == username and activity_type in top_3_activities:\n",
    "        owned_repos.add(repo_name)\n",
    "print('\\n'.join(f\"{repo}\" for repo in owned_repos))\n",
    "    "
   ]
  },
  {
   "cell_type": "code",
   "execution_count": null,
   "id": "fa041222-a4f0-437c-9f3e-c9e1dc0a7c39",
   "metadata": {},
   "outputs": [],
   "source": []
  }
 ],
 "metadata": {
  "kernelspec": {
   "display_name": "Python 3 (ipykernel)",
   "language": "python",
   "name": "python3"
  },
  "language_info": {
   "codemirror_mode": {
    "name": "ipython",
    "version": 3
   },
   "file_extension": ".py",
   "mimetype": "text/x-python",
   "name": "python",
   "nbconvert_exporter": "python",
   "pygments_lexer": "ipython3",
   "version": "3.11.13"
  }
 },
 "nbformat": 4,
 "nbformat_minor": 5
}
